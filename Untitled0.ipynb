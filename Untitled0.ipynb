{
  "nbformat": 4,
  "nbformat_minor": 0,
  "metadata": {
    "colab": {
      "provenance": []
    },
    "kernelspec": {
      "name": "python3",
      "display_name": "Python 3"
    },
    "language_info": {
      "name": "python"
    }
  },
  "cells": [
    {
      "cell_type": "code",
      "execution_count": 16,
      "metadata": {
        "colab": {
          "base_uri": "https://localhost:8080/"
        },
        "id": "mO4_s9uIw5EL",
        "outputId": "2a7751d5-00e6-4883-9dec-37352e386471"
      },
      "outputs": [
        {
          "output_type": "stream",
          "name": "stdout",
          "text": [
            "Test Case 1:\n",
            "Output: D> E> G> B> F> A> C>\n",
            "\n",
            "Test Case 2:\n",
            "Output: B> C> A>\n",
            "\n",
            "Test Case 3:\n",
            "Output: B> A> C>\n",
            "\n",
            "Test Case 4:\n",
            "Output: A> B> C> D>\n",
            "\n",
            "Test Case 5:\n",
            "Output: C> A> B>\n"
          ]
        }
      ],
      "source": [
        "#CHATGPT'S CODE\n",
        "\n",
        "import itertools\n",
        "\n",
        "def compare_students(student1, student2):\n",
        "    greater = False\n",
        "    lesser = False\n",
        "    for s1, s2 in zip(student1, student2):\n",
        "        if s1 > s2:\n",
        "            greater = True\n",
        "        elif s1 < s2:\n",
        "            lesser = True\n",
        "        if greater and lesser:\n",
        "            return None\n",
        "    if greater:\n",
        "        return str(student1[0]) + \">\" + str(student2[0])\n",
        "    elif lesser:\n",
        "        return str(student1[0]) + \"<\" + str(student2[0])\n",
        "    else:\n",
        "        return None\n",
        "\n",
        "def generate_comparisons(students):\n",
        "    comparisons = []\n",
        "    for student1, student2 in itertools.combinations(students, 2):\n",
        "        comparison = compare_students(student1[1:], student2[1:])\n",
        "        if comparison:\n",
        "            comparisons.append(comparison)\n",
        "    return comparisons\n",
        "\n",
        "def generate_output(students, comparisons):\n",
        "    output = []\n",
        "    for student in students:\n",
        "        student_name = student[0]\n",
        "        comparisons_for_student = [comp for comp in comparisons if comp.startswith(student_name)]\n",
        "        if all(comp.endswith(\">\") for comp in comparisons_for_student):\n",
        "            output.append(student_name + \">\" + \"\".join(comp[-1] for comp in comparisons_for_student))\n",
        "        elif all(comp.endswith(\"<\") for comp in comparisons_for_student):\n",
        "            output.append(student_name + \"<\" + \"\".join(comp[-1] for comp in comparisons_for_student))\n",
        "    return \" \".join(output)\n",
        "\n",
        "def run_test_case(students):\n",
        "    students.sort(key=lambda x: x[1:])\n",
        "    comparisons = generate_comparisons(students)\n",
        "    output = generate_output(students, comparisons)\n",
        "    print(\"Output:\", output)\n",
        "\n",
        "def main():\n",
        "    # Test Case 1\n",
        "    students1 = [\n",
        "        [\"A\", 12, 14, 16],\n",
        "        [\"B\", 5, 6, 7],\n",
        "        [\"C\", 17, 20, 23],\n",
        "        [\"D\", 2, 40, 12],\n",
        "        [\"E\", 3, 41, 13],\n",
        "        [\"F\", 7, 8, 9],\n",
        "        [\"G\", 4, 5, 6]\n",
        "    ]\n",
        "    print(\"Test Case 1:\")\n",
        "    run_test_case(students1)\n",
        "\n",
        "    # Test Case 2\n",
        "    students2 = [\n",
        "        [\"A\", 10, 20, 30],\n",
        "        [\"B\", 5, 15, 25],\n",
        "        [\"C\", 8, 18, 28]\n",
        "    ]\n",
        "    print(\"\\nTest Case 2:\")\n",
        "    run_test_case(students2)\n",
        "\n",
        "    # Test Case 3\n",
        "    students3 = [\n",
        "        [\"A\", 10, 20, 30],\n",
        "        [\"B\", 5, 25, 35],\n",
        "        [\"C\", 15, 25, 35]\n",
        "    ]\n",
        "    print(\"\\nTest Case 3:\")\n",
        "    run_test_case(students3)\n",
        "\n",
        "    # Test Case 4\n",
        "    students4 = [\n",
        "        [\"A\", 1, 2, 3],\n",
        "        [\"B\", 2, 3, 4],\n",
        "        [\"C\", 3, 4, 5],\n",
        "        [\"D\", 4, 5, 6]\n",
        "    ]\n",
        "    print(\"\\nTest Case 4:\")\n",
        "    run_test_case(students4)\n",
        "\n",
        "    # Test Case 5\n",
        "    students5 = [\n",
        "        [\"A\", 5, 10, 15],\n",
        "        [\"B\", 10, 20, 30],\n",
        "        [\"C\", 3, 6, 9]\n",
        "    ]\n",
        "    print(\"\\nTest Case 5:\")\n",
        "    run_test_case(students5)\n",
        "\n",
        "if __name__ == \"__main__\":\n",
        "    main()\n"
      ]
    },
    {
      "cell_type": "code",
      "source": [
        "#Actual Code\n",
        "import graphviz"
      ],
      "metadata": {
        "id": "mpYW8Gr106n8"
      },
      "execution_count": 21,
      "outputs": []
    },
    {
      "cell_type": "code",
      "source": [
        "for line in open(\"student_marks.txt\"):\n",
        "    print(line)"
      ],
      "metadata": {
        "colab": {
          "base_uri": "https://localhost:8080/",
          "height": 159
        },
        "id": "4FZGYvv6zNC_",
        "outputId": "c5c2423e-f753-4204-c9a2-094c7db6135d"
      },
      "execution_count": 20,
      "outputs": [
        {
          "output_type": "error",
          "ename": "FileNotFoundError",
          "evalue": "[Errno 2] No such file or directory: 'student_marks.txt'",
          "traceback": [
            "\u001b[0;31m---------------------------------------------------------------------------\u001b[0m",
            "\u001b[0;31mFileNotFoundError\u001b[0m                         Traceback (most recent call last)",
            "\u001b[0;32m<ipython-input-20-12f3beaec890>\u001b[0m in \u001b[0;36m<cell line: 1>\u001b[0;34m()\u001b[0m\n\u001b[0;32m----> 1\u001b[0;31m \u001b[0;32mfor\u001b[0m \u001b[0mline\u001b[0m \u001b[0;32min\u001b[0m \u001b[0mopen\u001b[0m\u001b[0;34m(\u001b[0m\u001b[0;34m\"student_marks.txt\"\u001b[0m\u001b[0;34m)\u001b[0m\u001b[0;34m:\u001b[0m\u001b[0;34m\u001b[0m\u001b[0;34m\u001b[0m\u001b[0m\n\u001b[0m\u001b[1;32m      2\u001b[0m     \u001b[0mprint\u001b[0m\u001b[0;34m(\u001b[0m\u001b[0mline\u001b[0m\u001b[0;34m)\u001b[0m\u001b[0;34m\u001b[0m\u001b[0;34m\u001b[0m\u001b[0m\n",
            "\u001b[0;31mFileNotFoundError\u001b[0m: [Errno 2] No such file or directory: 'student_marks.txt'"
          ]
        }
      ]
    },
    {
      "cell_type": "code",
      "source": [
        "def load_data(filename: str) -> dict:\n",
        "    data = dict()\n",
        "    for line in open(filename):\n",
        "        name, *marks = line.strip().split()\n",
        "        data[name] = [int(mark) for mark in marks]\n",
        "    return data"
      ],
      "metadata": {
        "id": "TuVJ9gVfW4pk"
      },
      "execution_count": null,
      "outputs": []
    },
    {
      "cell_type": "code",
      "source": [
        "data = load_data(\"student.marks.txt\")"
      ],
      "metadata": {
        "id": "UecA7wy7XhMB"
      },
      "execution_count": null,
      "outputs": []
    },
    {
      "cell_type": "code",
      "source": [
        "GT, LT, NC = '>', '<', '#'"
      ],
      "metadata": {
        "id": "MILnLN4-X19_"
      },
      "execution_count": null,
      "outputs": []
    },
    {
      "cell_type": "code",
      "source": [
        "def relation(a_marks: list[int], b_marks: list[int]) -> str:\n",
        "    if all([a > b for a, b in zip(a_marks, b_marks)]):\n",
        "        return GT\n",
        "    elif all([a < b for a, b in zip(a_marks, b_marks)]):\n",
        "        return LT\n",
        "    else:\n",
        "        return NC"
      ],
      "metadata": {
        "id": "VBVoJqvRXkjC"
      },
      "execution_count": null,
      "outputs": []
    },
    {
      "cell_type": "code",
      "source": [
        "relation(data['A'], data['C'])"
      ],
      "metadata": {
        "id": "vTiIebITYQvT"
      },
      "execution_count": null,
      "outputs": []
    },
    {
      "cell_type": "code",
      "source": [
        "from itertools import combinations as nCr"
      ],
      "metadata": {
        "id": "q7xm4mpcYWpN"
      },
      "execution_count": null,
      "outputs": []
    },
    {
      "cell_type": "code",
      "source": [
        "def assemble_relations(data: dict) -> set:\n",
        "    names = list(data.keys())\n",
        "    relations = set()\n",
        "    for p, q in nCr(names, 2):\n",
        "        rel = relation(data[p], data[q])\n",
        "        if rel == GT:\n",
        "            relations.add((p, q))\n",
        "        elif rel == LT:\n",
        "            relations.add((q, p))\n",
        "    return relations\n",
        ""
      ],
      "metadata": {
        "id": "HcnXaXLTYkR_"
      },
      "execution_count": null,
      "outputs": []
    },
    {
      "cell_type": "code",
      "source": [
        "assemble_relations(data)"
      ],
      "metadata": {
        "id": "AMoXK08oZPZP"
      },
      "execution_count": null,
      "outputs": []
    },
    {
      "cell_type": "code",
      "source": [
        "def drop_redundancies(relations: set) -> set:\n",
        "    heads = {p[0] for p in relations}\n",
        "    tails = {p[1] for p in relations}\n",
        "    both = heads & tails\n",
        "\n",
        "    redundancies = set()\n",
        "    for α, β in relations:\n",
        "        if any([(α, x) in relations and (x, β) in relations\n",
        "                for x in both]):\n",
        "            redundancies.add((α, β))\n",
        "    return relations - redundancies\n"
      ],
      "metadata": {
        "id": "wrsIdWhlZSi7"
      },
      "execution_count": null,
      "outputs": []
    },
    {
      "cell_type": "code",
      "source": [
        "def drop_redundancies_old(relations: set) -> set:\n",
        "    heads = {p[0] for p in relations}\n",
        "    tails = {p[1] for p in relations}\n",
        "    both = heads & tails\n",
        "\n",
        "    redundancies = set()\n",
        "    for α in heads:\n",
        "        for β in tails:\n",
        "            if (α, β) in relations:\n",
        "                if any( [(α, x) in relations and (x, β) in relations\n",
        "                       for x in both]):\n",
        "                    redundancies.add((α, β))\n",
        "    return relations - redundancies"
      ],
      "metadata": {
        "id": "mD2KHkuzhSaN"
      },
      "execution_count": null,
      "outputs": []
    }
  ]
}